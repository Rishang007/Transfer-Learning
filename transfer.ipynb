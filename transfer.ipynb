{
 "cells": [
  {
   "cell_type": "markdown",
   "metadata": {},
   "source": [
    "# Transfer Learning"
   ]
  },
  {
   "cell_type": "code",
   "execution_count": 1,
   "metadata": {},
   "outputs": [
    {
     "name": "stderr",
     "output_type": "stream",
     "text": [
      "Using TensorFlow backend.\n"
     ]
    }
   ],
   "source": [
    "# downloaded keras_preprocessing from github (very important)\n",
    "\n",
    "import numpy as np\n",
    "import pandas as pd\n",
    "\n",
    "#very important to use keras_preprocessing instead of  keras.preprocessing, flow_from_directory compatibility issues\n",
    "from keras_preprocessing.image import ImageDataGenerator \n",
    "\n",
    "from keras.layers import Dropout, Flatten, Dense\n",
    "from keras.layers import Conv2D, MaxPooling2D, Input\n",
    "from keras import applications\n",
    "from keras.models import Model\n",
    "from keras.utils import plot_model"
   ]
  },
  {
   "cell_type": "markdown",
   "metadata": {},
   "source": [
    "#### Note: Cannot use tf.keras as tf.keras is incompatible with keras_prerpocessing.image, it only works with keras.preprocessing but flow_from_dataframe only works with keras_preprocessing.image\n",
    "\n",
    "<https://medium.com/@vijayabhaskar96/tutorial-on-keras-imagedatagenerator-with-flow-from-dataframe-8bd5776e45c1>"
   ]
  },
  {
   "cell_type": "code",
   "execution_count": 2,
   "metadata": {},
   "outputs": [],
   "source": [
    "import time\n",
    "import datetime"
   ]
  },
  {
   "cell_type": "code",
   "execution_count": 3,
   "metadata": {},
   "outputs": [],
   "source": [
    "from tqdm.notebook import tqdm"
   ]
  },
  {
   "cell_type": "code",
   "execution_count": 4,
   "metadata": {},
   "outputs": [
    {
     "name": "stdout",
     "output_type": "stream",
     "text": [
      "[name: \"/device:CPU:0\"\n",
      "device_type: \"CPU\"\n",
      "memory_limit: 268435456\n",
      "locality {\n",
      "}\n",
      "incarnation: 14293005201603870300\n",
      ", name: \"/device:GPU:0\"\n",
      "device_type: \"GPU\"\n",
      "memory_limit: 3149044121\n",
      "locality {\n",
      "  bus_id: 1\n",
      "  links {\n",
      "  }\n",
      "}\n",
      "incarnation: 5487786672898115508\n",
      "physical_device_desc: \"device: 0, name: GeForce GTX 1050, pci bus id: 0000:01:00.0, compute capability: 6.1\"\n",
      "]\n"
     ]
    }
   ],
   "source": [
    "from tensorflow.python.client import device_lib\n",
    "print(device_lib.list_local_devices())"
   ]
  },
  {
   "cell_type": "markdown",
   "metadata": {},
   "source": [
    "# Preprocessing"
   ]
  },
  {
   "cell_type": "code",
   "execution_count": 5,
   "metadata": {},
   "outputs": [],
   "source": [
    "prefix = \"/data_final/\""
   ]
  },
  {
   "cell_type": "code",
   "execution_count": 6,
   "metadata": {},
   "outputs": [
    {
     "data": {
      "text/html": [
       "<div>\n",
       "<style scoped>\n",
       "    .dataframe tbody tr th:only-of-type {\n",
       "        vertical-align: middle;\n",
       "    }\n",
       "\n",
       "    .dataframe tbody tr th {\n",
       "        vertical-align: top;\n",
       "    }\n",
       "\n",
       "    .dataframe thead th {\n",
       "        text-align: right;\n",
       "    }\n",
       "</style>\n",
       "<table border=\"1\" class=\"dataframe\">\n",
       "  <thead>\n",
       "    <tr style=\"text-align: right;\">\n",
       "      <th></th>\n",
       "      <th>path</th>\n",
       "      <th>label</th>\n",
       "    </tr>\n",
       "  </thead>\n",
       "  <tbody>\n",
       "    <tr>\n",
       "      <th>0</th>\n",
       "      <td>imagesv/v/o/h/voh71d00/509132755+-2755.tif</td>\n",
       "      <td>3</td>\n",
       "    </tr>\n",
       "    <tr>\n",
       "      <th>1</th>\n",
       "      <td>imagesl/l/x/t/lxt19d00/502213303.tif</td>\n",
       "      <td>3</td>\n",
       "    </tr>\n",
       "    <tr>\n",
       "      <th>2</th>\n",
       "      <td>imagesx/x/e/d/xed05a00/2075325674.tif</td>\n",
       "      <td>2</td>\n",
       "    </tr>\n",
       "    <tr>\n",
       "      <th>3</th>\n",
       "      <td>imageso/o/j/b/ojb60d00/517511301+-1301.tif</td>\n",
       "      <td>3</td>\n",
       "    </tr>\n",
       "    <tr>\n",
       "      <th>4</th>\n",
       "      <td>imagesq/q/z/k/qzk17e00/2031320195.tif</td>\n",
       "      <td>7</td>\n",
       "    </tr>\n",
       "  </tbody>\n",
       "</table>\n",
       "</div>"
      ],
      "text/plain": [
       "                                         path  label\n",
       "0  imagesv/v/o/h/voh71d00/509132755+-2755.tif      3\n",
       "1        imagesl/l/x/t/lxt19d00/502213303.tif      3\n",
       "2       imagesx/x/e/d/xed05a00/2075325674.tif      2\n",
       "3  imageso/o/j/b/ojb60d00/517511301+-1301.tif      3\n",
       "4       imagesq/q/z/k/qzk17e00/2031320195.tif      7"
      ]
     },
     "execution_count": 6,
     "metadata": {},
     "output_type": "execute_result"
    }
   ],
   "source": [
    "# creating dataframe from labels.csv\n",
    "data =  pd.read_csv(r\"\\labels_final.csv\")\n",
    "data.head()"
   ]
  },
  {
   "cell_type": "markdown",
   "metadata": {},
   "source": [
    "### Replacing the path with the actual path of images in the computer"
   ]
  },
  {
   "cell_type": "code",
   "execution_count": 7,
   "metadata": {},
   "outputs": [],
   "source": [
    "def fullpath(path):\n",
    "    return prefix+path\n",
    "\n",
    "data['path']  = data['path'].apply(fullpath)"
   ]
  },
  {
   "cell_type": "code",
   "execution_count": 8,
   "metadata": {},
   "outputs": [
    {
     "data": {
      "text/plain": [
       "'C:/Users/rpris/Downloads/ml_data/transfer_learning/rvl-cdip/data_final/imagesv/v/o/h/voh71d00/509132755+-2755.tif'"
      ]
     },
     "execution_count": 8,
     "metadata": {},
     "output_type": "execute_result"
    }
   ],
   "source": [
    "# path example\n",
    "data['path'].iloc[0]"
   ]
  },
  {
   "cell_type": "markdown",
   "metadata": {},
   "source": [
    "### Replacing integers with string labels for flow_from_dataframe"
   ]
  },
  {
   "cell_type": "code",
   "execution_count": 9,
   "metadata": {},
   "outputs": [],
   "source": [
    "data.replace({'label':{0: 'letter',\n",
    "    1: 'form',\n",
    "    2: 'email',\n",
    "    3 :'handwritten',\n",
    "    4 :'advertisement',\n",
    "    5: 'scientific_report',\n",
    "    6 :'scientific_publication',\n",
    "    7 :'specification',\n",
    "    8 :'file_folder',\n",
    "    9 :'news_article',\n",
    "    10 :'budget',\n",
    "    11 :'invoice',\n",
    "    12 :'presentation',\n",
    "    13 :'questionnaire',\n",
    "    14: 'resume',\n",
    "    15 :'memo'}} , inplace=True)"
   ]
  },
  {
   "cell_type": "code",
   "execution_count": 10,
   "metadata": {},
   "outputs": [
    {
     "data": {
      "text/html": [
       "<div>\n",
       "<style scoped>\n",
       "    .dataframe tbody tr th:only-of-type {\n",
       "        vertical-align: middle;\n",
       "    }\n",
       "\n",
       "    .dataframe tbody tr th {\n",
       "        vertical-align: top;\n",
       "    }\n",
       "\n",
       "    .dataframe thead th {\n",
       "        text-align: right;\n",
       "    }\n",
       "</style>\n",
       "<table border=\"1\" class=\"dataframe\">\n",
       "  <thead>\n",
       "    <tr style=\"text-align: right;\">\n",
       "      <th></th>\n",
       "      <th>path</th>\n",
       "      <th>label</th>\n",
       "    </tr>\n",
       "  </thead>\n",
       "  <tbody>\n",
       "    <tr>\n",
       "      <th>0</th>\n",
       "      <td>C:/Users/rpris/Downloads/ml_data/transfer_lear...</td>\n",
       "      <td>handwritten</td>\n",
       "    </tr>\n",
       "    <tr>\n",
       "      <th>1</th>\n",
       "      <td>C:/Users/rpris/Downloads/ml_data/transfer_lear...</td>\n",
       "      <td>handwritten</td>\n",
       "    </tr>\n",
       "    <tr>\n",
       "      <th>2</th>\n",
       "      <td>C:/Users/rpris/Downloads/ml_data/transfer_lear...</td>\n",
       "      <td>email</td>\n",
       "    </tr>\n",
       "  </tbody>\n",
       "</table>\n",
       "</div>"
      ],
      "text/plain": [
       "                                                path        label\n",
       "0  C:/Users/rpris/Downloads/ml_data/transfer_lear...  handwritten\n",
       "1  C:/Users/rpris/Downloads/ml_data/transfer_lear...  handwritten\n",
       "2  C:/Users/rpris/Downloads/ml_data/transfer_lear...        email"
      ]
     },
     "execution_count": 10,
     "metadata": {},
     "output_type": "execute_result"
    }
   ],
   "source": [
    "data.head(3)"
   ]
  },
  {
   "cell_type": "markdown",
   "metadata": {},
   "source": [
    "### Dividing the data into train and test"
   ]
  },
  {
   "cell_type": "code",
   "execution_count": 11,
   "metadata": {},
   "outputs": [],
   "source": [
    "#dividing the data into train and cross validation \n",
    "df_train = data.iloc[:33600]    # 70 % data is train\n",
    "df_test = data.iloc[33600:]"
   ]
  },
  {
   "cell_type": "markdown",
   "metadata": {},
   "source": [
    "### Train dataset"
   ]
  },
  {
   "cell_type": "code",
   "execution_count": 12,
   "metadata": {},
   "outputs": [],
   "source": [
    "\n",
    "train_datagen =  ImageDataGenerator(rescale = 1./255)\n",
    "\n",
    "test_datagen =  ImageDataGenerator(rescale = 1./255)"
   ]
  },
  {
   "cell_type": "code",
   "execution_count": 13,
   "metadata": {},
   "outputs": [
    {
     "name": "stdout",
     "output_type": "stream",
     "text": [
      "Found 33600 validated image filenames belonging to 16 classes.\n"
     ]
    }
   ],
   "source": [
    "train_generator =  train_datagen.flow_from_dataframe(dataframe = df_train, directory = None, \n",
    "                                                     x_col= 'path', y_col='label',\n",
    "                                                     class_mode='categorical')"
   ]
  },
  {
   "cell_type": "code",
   "execution_count": 14,
   "metadata": {},
   "outputs": [
    {
     "data": {
      "text/plain": [
       "1050"
      ]
     },
     "execution_count": 14,
     "metadata": {},
     "output_type": "execute_result"
    }
   ],
   "source": [
    "len(train_generator)      #number of generators or batches containing 32 images each"
   ]
  },
  {
   "cell_type": "markdown",
   "metadata": {},
   "source": [
    "### Test dataset"
   ]
  },
  {
   "cell_type": "code",
   "execution_count": 15,
   "metadata": {},
   "outputs": [
    {
     "name": "stdout",
     "output_type": "stream",
     "text": [
      "Found 14400 validated image filenames belonging to 16 classes.\n"
     ]
    }
   ],
   "source": [
    "test_generator = test_datagen.flow_from_dataframe(dataframe=df_test, directory=None, \n",
    "                                                  x_col = 'path', y_col='label',\n",
    "                                                 class_mode=\"categorical\")"
   ]
  },
  {
   "cell_type": "markdown",
   "metadata": {},
   "source": [
    "# Model-1\n",
    "\n",
    "Architecture  \n",
    "\n",
    " <b>INPUT --> VGG-16 without Top layers(FC) --> Conv Layer --> Maxpool Layer --> 2 FC layers --> Output Layer</b>"
   ]
  },
  {
   "cell_type": "markdown",
   "metadata": {},
   "source": [
    "### Loading the weights of pretrained VGG 16 model trained on imagenet dataset"
   ]
  },
  {
   "cell_type": "code",
   "execution_count": 16,
   "metadata": {},
   "outputs": [],
   "source": [
    "model_vgg16 = applications.VGG16(include_top=False, weights='imagenet', input_shape=(256,256,3))"
   ]
  },
  {
   "cell_type": "markdown",
   "metadata": {},
   "source": [
    "### Freezing the layers"
   ]
  },
  {
   "cell_type": "code",
   "execution_count": 17,
   "metadata": {},
   "outputs": [],
   "source": [
    "for layer in model_vgg16.layers:\n",
    "    layer.trainable=False"
   ]
  },
  {
   "cell_type": "code",
   "execution_count": 18,
   "metadata": {},
   "outputs": [
    {
     "data": {
      "text/plain": [
       "[<tf.Tensor 'input_1:0' shape=(None, 256, 256, 3) dtype=float32>]"
      ]
     },
     "execution_count": 18,
     "metadata": {},
     "output_type": "execute_result"
    }
   ],
   "source": [
    "model_vgg16.inputs    #list of all tensors as input is  giving error, using model.input instead of model.inputs"
   ]
  },
  {
   "cell_type": "code",
   "execution_count": 20,
   "metadata": {},
   "outputs": [],
   "source": [
    "from keras.backend import clear_session"
   ]
  },
  {
   "cell_type": "code",
   "execution_count": 21,
   "metadata": {},
   "outputs": [],
   "source": [
    "clear_session()"
   ]
  },
  {
   "cell_type": "markdown",
   "metadata": {},
   "source": [
    "### Creating the top model"
   ]
  },
  {
   "cell_type": "code",
   "execution_count": 22,
   "metadata": {
    "scrolled": true
   },
   "outputs": [
    {
     "name": "stdout",
     "output_type": "stream",
     "text": [
      "Model: \"model_1\"\n",
      "_________________________________________________________________\n",
      "Layer (type)                 Output Shape              Param #   \n",
      "=================================================================\n",
      "input_1 (InputLayer)         (None, 256, 256, 3)       0         \n",
      "_________________________________________________________________\n",
      "block1_conv1 (Conv2D)        (None, 256, 256, 64)      1792      \n",
      "_________________________________________________________________\n",
      "block1_conv2 (Conv2D)        (None, 256, 256, 64)      36928     \n",
      "_________________________________________________________________\n",
      "block1_pool (MaxPooling2D)   (None, 128, 128, 64)      0         \n",
      "_________________________________________________________________\n",
      "block2_conv1 (Conv2D)        (None, 128, 128, 128)     73856     \n",
      "_________________________________________________________________\n",
      "block2_conv2 (Conv2D)        (None, 128, 128, 128)     147584    \n",
      "_________________________________________________________________\n",
      "block2_pool (MaxPooling2D)   (None, 64, 64, 128)       0         \n",
      "_________________________________________________________________\n",
      "block3_conv1 (Conv2D)        (None, 64, 64, 256)       295168    \n",
      "_________________________________________________________________\n",
      "block3_conv2 (Conv2D)        (None, 64, 64, 256)       590080    \n",
      "_________________________________________________________________\n",
      "block3_conv3 (Conv2D)        (None, 64, 64, 256)       590080    \n",
      "_________________________________________________________________\n",
      "block3_pool (MaxPooling2D)   (None, 32, 32, 256)       0         \n",
      "_________________________________________________________________\n",
      "block4_conv1 (Conv2D)        (None, 32, 32, 512)       1180160   \n",
      "_________________________________________________________________\n",
      "block4_conv2 (Conv2D)        (None, 32, 32, 512)       2359808   \n",
      "_________________________________________________________________\n",
      "block4_conv3 (Conv2D)        (None, 32, 32, 512)       2359808   \n",
      "_________________________________________________________________\n",
      "block4_pool (MaxPooling2D)   (None, 16, 16, 512)       0         \n",
      "_________________________________________________________________\n",
      "block5_conv1 (Conv2D)        (None, 16, 16, 512)       2359808   \n",
      "_________________________________________________________________\n",
      "block5_conv2 (Conv2D)        (None, 16, 16, 512)       2359808   \n",
      "_________________________________________________________________\n",
      "block5_conv3 (Conv2D)        (None, 16, 16, 512)       2359808   \n",
      "_________________________________________________________________\n",
      "block5_pool (MaxPooling2D)   (None, 8, 8, 512)         0         \n",
      "_________________________________________________________________\n",
      "conv2d_1 (Conv2D)            (None, 6, 6, 32)          147488    \n",
      "_________________________________________________________________\n",
      "max_pooling2d_1 (MaxPooling2 (None, 3, 3, 32)          0         \n",
      "_________________________________________________________________\n",
      "flatten_1 (Flatten)          (None, 288)               0         \n",
      "_________________________________________________________________\n",
      "dense_1 (Dense)              (None, 256)               73984     \n",
      "_________________________________________________________________\n",
      "dense_2 (Dense)              (None, 128)               32896     \n",
      "_________________________________________________________________\n",
      "dense_3 (Dense)              (None, 16)                2064      \n",
      "=================================================================\n",
      "Total params: 14,971,120\n",
      "Trainable params: 256,432\n",
      "Non-trainable params: 14,714,688\n",
      "_________________________________________________________________\n",
      "None\n"
     ]
    }
   ],
   "source": [
    "\n",
    "#convolution layer 1\n",
    "conv1 = Conv2D(32, kernel_size=3, activation='relu')(model_vgg16.output)\n",
    "\n",
    "#maxpool layer\n",
    "Maxpool = MaxPooling2D(pool_size=(2,2))(conv1)\n",
    "\n",
    "#Flatten()\n",
    "flat = Flatten()(Maxpool)\n",
    "\n",
    "#dense layer 1\n",
    "dens1 = Dense(256, activation='relu')(flat)\n",
    "\n",
    "#dense layer 2\n",
    "dens2 = Dense(128, activation='relu')(dens1)\n",
    "\n",
    "#output\n",
    "output = Dense(16, activation='softmax')(dens2)\n",
    "\n",
    "#defining the model\n",
    "model1 = Model(model_vgg16.input, outputs=output)\n",
    "\n",
    "#compile with adam and cross_entropy\n",
    "model1.compile(optimizer='adam', loss='categorical_crossentropy', metrics=['accuracy'])\n",
    "\n",
    "print(model1.summary())\n"
   ]
  },
  {
   "cell_type": "code",
   "execution_count": 23,
   "metadata": {
    "scrolled": true
   },
   "outputs": [
    {
     "data": {
      "image/png": "[encoded data removed]",
      "text/plain": [
       "<IPython.core.display.Image object>"
      ]
     },
     "execution_count": 23,
     "metadata": {},
     "output_type": "execute_result"
    }
   ],
   "source": [
    "plot_model(model1,to_file='model1.png')"
   ]
  },
  {
   "cell_type": "markdown",
   "metadata": {},
   "source": [
    "### CallBacks"
   ]
  },
  {
   "cell_type": "code",
   "execution_count": 17,
   "metadata": {},
   "outputs": [],
   "source": [
    "from keras.callbacks import TensorBoard\n",
    "from keras.callbacks import EarlyStopping"
   ]
  },
  {
   "cell_type": "code",
   "execution_count": 18,
   "metadata": {},
   "outputs": [],
   "source": [
    "#tensorboard callback #creating a new directory to store logs according to time\n",
    "log_dir=\"logs\\\\fit\\\\\" + datetime.datetime.now().strftime(\"%Y%m%d-%H%M%S-\") #dirctory according to time\n",
    "tfboard_callback = TensorBoard(log_dir=log_dir, histogram_freq=1,write_graph=True)\n",
    "\n",
    "#Early stopping callback to prevent overfitting\n",
    "stp_callback = EarlyStopping(monitor='val_loss', mode='min', patience=3)\n"
   ]
  },
  {
   "cell_type": "markdown",
   "metadata": {},
   "source": [
    "### FIT"
   ]
  },
  {
   "cell_type": "code",
   "execution_count": 33,
   "metadata": {},
   "outputs": [
    {
     "name": "stdout",
     "output_type": "stream",
     "text": [
      "Epoch 1/30\n",
      "1050/1050 [==============================] - 1282s 1s/step - loss: 1.1555 - accuracy: 0.6449 - val_loss: 1.6588 - val_accuracy: 0.6801\n",
      "Epoch 2/30\n",
      "1050/1050 [==============================] - 1287s 1s/step - loss: 0.9691 - accuracy: 0.7002 - val_loss: 0.9799 - val_accuracy: 0.7010\n",
      "Epoch 3/30\n",
      "1050/1050 [==============================] - 1289s 1s/step - loss: 0.8452 - accuracy: 0.7377 - val_loss: 0.7402 - val_accuracy: 0.7185\n",
      "Epoch 4/30\n",
      "1050/1050 [==============================] - 1275s 1s/step - loss: 0.7605 - accuracy: 0.7621 - val_loss: 0.8734 - val_accuracy: 0.7293\n",
      "Epoch 5/30\n",
      "1050/1050 [==============================] - 1227s 1s/step - loss: 0.6925 - accuracy: 0.7846 - val_loss: 1.1261 - val_accuracy: 0.7394\n",
      "Epoch 6/30\n",
      "1050/1050 [==============================] - 1253s 1s/step - loss: 0.6285 - accuracy: 0.8025 - val_loss: 0.7436 - val_accuracy: 0.7213\n"
     ]
    },
    {
     "data": {
      "text/plain": [
       "<keras.callbacks.callbacks.History at 0x21a766f2448>"
      ]
     },
     "execution_count": 33,
     "metadata": {},
     "output_type": "execute_result"
    }
   ],
   "source": [
    "model1.fit_generator(train_generator, epochs=30, \n",
    "                 validation_data = test_generator, callbacks=[tfboard_callback, stp_callback])"
   ]
  },
  {
   "cell_type": "markdown",
   "metadata": {},
   "source": [
    "### Observation:\n",
    "1. **Model starts to overfit after 3rd epoch, with patience=3 the overfitting is prevented**\n",
    "2. **Validation accuracy is 71.85 %**"
   ]
  },
  {
   "cell_type": "markdown",
   "metadata": {},
   "source": [
    "### Tensorboard M1 (red line is Validation)"
   ]
  },
  {
   "cell_type": "markdown",
   "metadata": {},
   "source": [
    "<img src=\"https://imgur.com/zEW5FDG.png\">"
   ]
  },
  {
   "attachments": {},
   "cell_type": "markdown",
   "metadata": {},
   "source": [
    "<img src=\"https://imgur.com/yFgBoLD.png\">"
   ]
  },
  {
   "cell_type": "markdown",
   "metadata": {},
   "source": [
    "# Model-2 "
   ]
  },
  {
   "cell_type": "markdown",
   "metadata": {},
   "source": [
    "**Creating two fully connected layers of 1024 dimension**\n",
    "Converting the first FC layer to Conv layer-  \n",
    "    - Input to FC layer is 8x8x512(train_input.shape), so our Conv layer will be 8x8x1024 giving same output as FC i.e   1x1x1024  \n",
    "    \n",
    "Converting the second FC layer to Conv layer-  \n",
    "    - Input to this FC layer is 1x1x1024, so our Conv layer will be 1x1x1024 giving same output as second FC i.e 1x1x4096\n",
    "**Final layer is the output softmax layer of size 16**  \n",
    "\n",
    "<b>INPUT --> VGG-16 without Top layers(FC) --> 2 Conv Layers identical to FC --> Output Layer</b>"
   ]
  },
  {
   "cell_type": "code",
   "execution_count": 21,
   "metadata": {
    "scrolled": true
   },
   "outputs": [
    {
     "name": "stdout",
     "output_type": "stream",
     "text": [
      "Model: \"model_1\"\n",
      "_________________________________________________________________\n",
      "Layer (type)                 Output Shape              Param #   \n",
      "=================================================================\n",
      "input_1 (InputLayer)         (None, 256, 256, 3)       0         \n",
      "_________________________________________________________________\n",
      "block1_conv1 (Conv2D)        (None, 256, 256, 64)      1792      \n",
      "_________________________________________________________________\n",
      "block1_conv2 (Conv2D)        (None, 256, 256, 64)      36928     \n",
      "_________________________________________________________________\n",
      "block1_pool (MaxPooling2D)   (None, 128, 128, 64)      0         \n",
      "_________________________________________________________________\n",
      "block2_conv1 (Conv2D)        (None, 128, 128, 128)     73856     \n",
      "_________________________________________________________________\n",
      "block2_conv2 (Conv2D)        (None, 128, 128, 128)     147584    \n",
      "_________________________________________________________________\n",
      "block2_pool (MaxPooling2D)   (None, 64, 64, 128)       0         \n",
      "_________________________________________________________________\n",
      "block3_conv1 (Conv2D)        (None, 64, 64, 256)       295168    \n",
      "_________________________________________________________________\n",
      "block3_conv2 (Conv2D)        (None, 64, 64, 256)       590080    \n",
      "_________________________________________________________________\n",
      "block3_conv3 (Conv2D)        (None, 64, 64, 256)       590080    \n",
      "_________________________________________________________________\n",
      "block3_pool (MaxPooling2D)   (None, 32, 32, 256)       0         \n",
      "_________________________________________________________________\n",
      "block4_conv1 (Conv2D)        (None, 32, 32, 512)       1180160   \n",
      "_________________________________________________________________\n",
      "block4_conv2 (Conv2D)        (None, 32, 32, 512)       2359808   \n",
      "_________________________________________________________________\n",
      "block4_conv3 (Conv2D)        (None, 32, 32, 512)       2359808   \n",
      "_________________________________________________________________\n",
      "block4_pool (MaxPooling2D)   (None, 16, 16, 512)       0         \n",
      "_________________________________________________________________\n",
      "block5_conv1 (Conv2D)        (None, 16, 16, 512)       2359808   \n",
      "_________________________________________________________________\n",
      "block5_conv2 (Conv2D)        (None, 16, 16, 512)       2359808   \n",
      "_________________________________________________________________\n",
      "block5_conv3 (Conv2D)        (None, 16, 16, 512)       2359808   \n",
      "_________________________________________________________________\n",
      "block5_pool (MaxPooling2D)   (None, 8, 8, 512)         0         \n",
      "_________________________________________________________________\n",
      "conv2d_1 (Conv2D)            (None, 1, 1, 1024)        33555456  \n",
      "_________________________________________________________________\n",
      "conv2d_2 (Conv2D)            (None, 1, 1, 1024)        1049600   \n",
      "_________________________________________________________________\n",
      "flatten_1 (Flatten)          (None, 1024)              0         \n",
      "_________________________________________________________________\n",
      "dense_1 (Dense)              (None, 16)                16400     \n",
      "=================================================================\n",
      "Total params: 49,336,144\n",
      "Trainable params: 34,621,456\n",
      "Non-trainable params: 14,714,688\n",
      "_________________________________________________________________\n",
      "None\n"
     ]
    }
   ],
   "source": [
    "\n",
    "#FC layer converted to convolution\n",
    "convv1 = Conv2D(1024, kernel_size=8, activation='relu')(model_vgg16.output)\n",
    "convv2 = Conv2D(1024, kernel_size=1, activation='relu')(convv1)\n",
    "\n",
    "#Flatten\n",
    "flat = Flatten()(convv2)\n",
    "\n",
    "#Output\n",
    "output2 = Dense(16, activation='softmax')(flat)\n",
    "\n",
    "#defining the model\n",
    "model2 = Model(model_vgg16.inputs, outputs=output2)\n",
    "\n",
    "#compile with adam and cross_entropy\n",
    "model2.compile(optimizer='adam', loss='categorical_crossentropy', metrics=['accuracy'])\n",
    "\n",
    "#model summary\n",
    "print(model2.summary())\n"
   ]
  },
  {
   "cell_type": "code",
   "execution_count": 22,
   "metadata": {},
   "outputs": [
    {
     "data": {
      "image/png": "[encoded data removed]",
      "text/plain": [
       "<IPython.core.display.Image object>"
      ]
     },
     "execution_count": 22,
     "metadata": {},
     "output_type": "execute_result"
    }
   ],
   "source": [
    "plot_model(model2, to_file='model2.png')"
   ]
  },
  {
   "cell_type": "markdown",
   "metadata": {},
   "source": [
    "### FIT"
   ]
  },
  {
   "cell_type": "code",
   "execution_count": 23,
   "metadata": {},
   "outputs": [
    {
     "name": "stdout",
     "output_type": "stream",
     "text": [
      "Epoch 1/30\n",
      "1050/1050 [==============================] - 1257s 1s/step - loss: 1.3426 - accuracy: 0.6059 - val_loss: 1.4178 - val_accuracy: 0.6722\n",
      "Epoch 2/30\n",
      "1050/1050 [==============================] - 1287s 1s/step - loss: 0.9078 - accuracy: 0.7220 - val_loss: 1.0031 - val_accuracy: 0.6826\n",
      "Epoch 3/30\n",
      "1050/1050 [==============================] - 1291s 1s/step - loss: 0.7522 - accuracy: 0.7679 - val_loss: 1.0148 - val_accuracy: 0.6964\n",
      "Epoch 4/30\n",
      "1050/1050 [==============================] - 1293s 1s/step - loss: 0.6606 - accuracy: 0.7960 - val_loss: 0.9326 - val_accuracy: 0.7433\n",
      "Epoch 5/30\n",
      "1050/1050 [==============================] - 1311s 1s/step - loss: 0.5657 - accuracy: 0.8241 - val_loss: 0.6631 - val_accuracy: 0.7222\n",
      "Epoch 6/30\n",
      "1050/1050 [==============================] - 1300s 1s/step - loss: 0.4942 - accuracy: 0.8436 - val_loss: 1.0765 - val_accuracy: 0.7356\n",
      "Epoch 7/30\n",
      "1050/1050 [==============================] - 1301s 1s/step - loss: 0.4449 - accuracy: 0.8603 - val_loss: 1.0913 - val_accuracy: 0.7562\n",
      "Epoch 8/30\n",
      "1050/1050 [==============================] - 1305s 1s/step - loss: 0.3967 - accuracy: 0.8730 - val_loss: 1.0426 - val_accuracy: 0.7503\n"
     ]
    },
    {
     "data": {
      "text/plain": [
       "<keras.callbacks.callbacks.History at 0x1d47747fa08>"
      ]
     },
     "execution_count": 23,
     "metadata": {},
     "output_type": "execute_result"
    }
   ],
   "source": [
    "model2.fit_generator(train_generator, epochs=30, \n",
    "                 validation_data = test_generator, callbacks=[tfboard_callback, stp_callback])"
   ]
  },
  {
   "cell_type": "markdown",
   "metadata": {},
   "source": [
    "### Observation:\n",
    "1. **Model starts to overfit after 5th epoch, with patience=3 the overfitting is prevented**\n",
    "2. **Validation accuracy is 72.22 %**"
   ]
  },
  {
   "cell_type": "markdown",
   "metadata": {},
   "source": [
    "### Tensorboard M2 (grey line is validation)"
   ]
  },
  {
   "cell_type": "markdown",
   "metadata": {},
   "source": [
    "<img src=\"https://imgur.com/apxbdvo.png\">"
   ]
  },
  {
   "cell_type": "markdown",
   "metadata": {},
   "source": [
    "<img src=\"https://imgur.com/SIn5w6N.png\">"
   ]
  },
  {
   "cell_type": "markdown",
   "metadata": {},
   "source": [
    "# Model-3\n",
    "\n",
    "<b>INPUT --> VGG-16 without Top layers(FC) --> 2 Conv Layers identical to FC --> Output Layer</b>"
   ]
  },
  {
   "cell_type": "markdown",
   "metadata": {},
   "source": [
    "### Training the last 6 layers of VGG16 (without FC) along with the self created top layers.\n",
    "### Defining the VGG16 pretrained with sequential to perform the operation of 'model.add'"
   ]
  },
  {
   "cell_type": "code",
   "execution_count": 19,
   "metadata": {},
   "outputs": [],
   "source": [
    "vgg16 = applications.VGG16(include_top=False, weights='imagenet', input_shape=(256,256,3))\n",
    "\n",
    "#freezing the layers expect the last 6\n",
    "for layer in vgg16.layers[:-6]:\n",
    "    layer.trainable = False"
   ]
  },
  {
   "cell_type": "code",
   "execution_count": 20,
   "metadata": {},
   "outputs": [],
   "source": [
    "from keras.optimizers import SGD"
   ]
  },
  {
   "cell_type": "code",
   "execution_count": 21,
   "metadata": {
    "scrolled": true
   },
   "outputs": [
    {
     "name": "stdout",
     "output_type": "stream",
     "text": [
      "Model: \"model_1\"\n",
      "_________________________________________________________________\n",
      "Layer (type)                 Output Shape              Param #   \n",
      "=================================================================\n",
      "input_1 (InputLayer)         (None, 256, 256, 3)       0         \n",
      "_________________________________________________________________\n",
      "block1_conv1 (Conv2D)        (None, 256, 256, 64)      1792      \n",
      "_________________________________________________________________\n",
      "block1_conv2 (Conv2D)        (None, 256, 256, 64)      36928     \n",
      "_________________________________________________________________\n",
      "block1_pool (MaxPooling2D)   (None, 128, 128, 64)      0         \n",
      "_________________________________________________________________\n",
      "block2_conv1 (Conv2D)        (None, 128, 128, 128)     73856     \n",
      "_________________________________________________________________\n",
      "block2_conv2 (Conv2D)        (None, 128, 128, 128)     147584    \n",
      "_________________________________________________________________\n",
      "block2_pool (MaxPooling2D)   (None, 64, 64, 128)       0         \n",
      "_________________________________________________________________\n",
      "block3_conv1 (Conv2D)        (None, 64, 64, 256)       295168    \n",
      "_________________________________________________________________\n",
      "block3_conv2 (Conv2D)        (None, 64, 64, 256)       590080    \n",
      "_________________________________________________________________\n",
      "block3_conv3 (Conv2D)        (None, 64, 64, 256)       590080    \n",
      "_________________________________________________________________\n",
      "block3_pool (MaxPooling2D)   (None, 32, 32, 256)       0         \n",
      "_________________________________________________________________\n",
      "block4_conv1 (Conv2D)        (None, 32, 32, 512)       1180160   \n",
      "_________________________________________________________________\n",
      "block4_conv2 (Conv2D)        (None, 32, 32, 512)       2359808   \n",
      "_________________________________________________________________\n",
      "block4_conv3 (Conv2D)        (None, 32, 32, 512)       2359808   \n",
      "_________________________________________________________________\n",
      "block4_pool (MaxPooling2D)   (None, 16, 16, 512)       0         \n",
      "_________________________________________________________________\n",
      "block5_conv1 (Conv2D)        (None, 16, 16, 512)       2359808   \n",
      "_________________________________________________________________\n",
      "block5_conv2 (Conv2D)        (None, 16, 16, 512)       2359808   \n",
      "_________________________________________________________________\n",
      "block5_conv3 (Conv2D)        (None, 16, 16, 512)       2359808   \n",
      "_________________________________________________________________\n",
      "block5_pool (MaxPooling2D)   (None, 8, 8, 512)         0         \n",
      "_________________________________________________________________\n",
      "conv2d_1 (Conv2D)            (None, 1, 1, 1024)        33555456  \n",
      "_________________________________________________________________\n",
      "conv2d_2 (Conv2D)            (None, 1, 1, 1024)        1049600   \n",
      "_________________________________________________________________\n",
      "flatten_1 (Flatten)          (None, 1024)              0         \n",
      "_________________________________________________________________\n",
      "dense_1 (Dense)              (None, 16)                16400     \n",
      "=================================================================\n",
      "Total params: 49,336,144\n",
      "Trainable params: 44,060,688\n",
      "Non-trainable params: 5,275,456\n",
      "_________________________________________________________________\n",
      "None\n"
     ]
    }
   ],
   "source": [
    "convvv1 = Conv2D(1024, kernel_size=8, activation='relu')(vgg16.output)\n",
    "convvv2 = Conv2D(1024, kernel_size=1, activation='relu')(convvv1)\n",
    "\n",
    "#Flatten\n",
    "flatt = Flatten()(convvv2)\n",
    "\n",
    "#Output\n",
    "output3 = Dense(16, activation='softmax')(flatt)\n",
    "\n",
    "#defining the model\n",
    "model3 = Model(inputs=vgg16.input, outputs=output3)\n",
    "\n",
    "\n",
    "#compile with very low learning rate using SGD + Momentum\n",
    "model3.compile(loss='binary_crossentropy',\n",
    "              optimizer=SGD(lr=1e-4, momentum=0.9),\n",
    "              metrics=['accuracy'])\n",
    "\n",
    "print(model3.summary())"
   ]
  },
  {
   "cell_type": "code",
   "execution_count": 22,
   "metadata": {
    "scrolled": true
   },
   "outputs": [
    {
     "data": {
      "image/png": "[encoded data removed]",
      "text/plain": [
       "<IPython.core.display.Image object>"
      ]
     },
     "execution_count": 22,
     "metadata": {},
     "output_type": "execute_result"
    }
   ],
   "source": [
    "plot_model(model3, to_file='model3.png')"
   ]
  },
  {
   "cell_type": "code",
   "execution_count": 23,
   "metadata": {
    "scrolled": true
   },
   "outputs": [
    {
     "name": "stdout",
     "output_type": "stream",
     "text": [
      "Epoch 1/20\n",
      "1050/1050 [==============================] - 1444s 1s/step - loss: 0.2183 - accuracy: 0.9375 - val_loss: 0.2105 - val_accuracy: 0.9375\n",
      "Epoch 2/20\n",
      "1050/1050 [==============================] - 1490s 1s/step - loss: 0.1747 - accuracy: 0.9429 - val_loss: 0.1383 - val_accuracy: 0.9492\n",
      "Epoch 3/20\n",
      "1050/1050 [==============================] - 1471s 1s/step - loss: 0.1407 - accuracy: 0.9528 - val_loss: 0.1226 - val_accuracy: 0.9567\n",
      "Epoch 4/20\n",
      "1050/1050 [==============================] - 1451s 1s/step - loss: 0.1221 - accuracy: 0.9589 - val_loss: 0.1101 - val_accuracy: 0.9607\n",
      "Epoch 5/20\n",
      "1050/1050 [==============================] - 1477s 1s/step - loss: 0.1110 - accuracy: 0.9626 - val_loss: 0.1233 - val_accuracy: 0.9638\n",
      "Epoch 6/20\n",
      "1050/1050 [==============================] - 1497s 1s/step - loss: 0.1036 - accuracy: 0.9650 - val_loss: 0.1019 - val_accuracy: 0.9657\n",
      "Epoch 7/20\n",
      "1050/1050 [==============================] - 1492s 1s/step - loss: 0.0979 - accuracy: 0.9671 - val_loss: 0.1231 - val_accuracy: 0.9677\n",
      "Epoch 8/20\n",
      "1050/1050 [==============================] - 1496s 1s/step - loss: 0.0932 - accuracy: 0.9687 - val_loss: 0.0898 - val_accuracy: 0.9685\n",
      "Epoch 9/20\n",
      "1050/1050 [==============================] - 1498s 1s/step - loss: 0.0894 - accuracy: 0.9699 - val_loss: 0.1228 - val_accuracy: 0.9692\n",
      "Epoch 10/20\n",
      "1050/1050 [==============================] - 1500s 1s/step - loss: 0.0858 - accuracy: 0.9713 - val_loss: 0.0841 - val_accuracy: 0.9699\n",
      "Epoch 11/20\n",
      "1050/1050 [==============================] - 1501s 1s/step - loss: 0.0827 - accuracy: 0.9723 - val_loss: 0.0810 - val_accuracy: 0.9713\n",
      "Epoch 12/20\n",
      "1050/1050 [==============================] - 1494s 1s/step - loss: 0.0802 - accuracy: 0.9731 - val_loss: 0.0765 - val_accuracy: 0.9713\n",
      "Epoch 13/20\n",
      "1050/1050 [==============================] - 1479s 1s/step - loss: 0.0774 - accuracy: 0.9740 - val_loss: 0.1017 - val_accuracy: 0.9719\n",
      "Epoch 14/20\n",
      "1050/1050 [==============================] - 1466s 1s/step - loss: 0.0749 - accuracy: 0.9749 - val_loss: 0.1251 - val_accuracy: 0.9724\n",
      "Epoch 15/20\n",
      "1050/1050 [==============================] - 1463s 1s/step - loss: 0.0726 - accuracy: 0.9757 - val_loss: 0.0367 - val_accuracy: 0.9727\n",
      "Epoch 16/20\n",
      "1050/1050 [==============================] - 1453s 1s/step - loss: 0.0706 - accuracy: 0.9765 - val_loss: 0.0832 - val_accuracy: 0.9733\n",
      "Epoch 17/20\n",
      "1050/1050 [==============================] - 1438s 1s/step - loss: 0.0683 - accuracy: 0.9772 - val_loss: 0.0617 - val_accuracy: 0.9728\n",
      "Epoch 18/20\n",
      "1050/1050 [==============================] - 1423s 1s/step - loss: 0.0664 - accuracy: 0.9779 - val_loss: 0.0646 - val_accuracy: 0.9739\n"
     ]
    },
    {
     "data": {
      "text/plain": [
       "<keras.callbacks.callbacks.History at 0x1505a87b508>"
      ]
     },
     "execution_count": 23,
     "metadata": {},
     "output_type": "execute_result"
    }
   ],
   "source": [
    "#fit\n",
    "model3.fit_generator(train_generator, epochs=20, validation_data=test_generator, \n",
    "                     callbacks=[tfboard_callback, stp_callback])"
   ]
  },
  {
   "cell_type": "markdown",
   "metadata": {},
   "source": [
    "### Observation\n",
    "1. **Validation loss gradually comes down with some fluctuations but ultimately settles at epoch 15.**\n",
    "2. **With patience=3, the callback stops the training at epoch=18 to prevent overfitting**\n",
    "3. **Validation accuracy sets at 97-98%**"
   ]
  },
  {
   "cell_type": "markdown",
   "metadata": {},
   "source": [
    "## Tensorboard M3 (Blue is Validation)"
   ]
  },
  {
   "cell_type": "markdown",
   "metadata": {},
   "source": [
    "<img src=\"https://imgur.com/iSYyfY1.png\">"
   ]
  },
  {
   "cell_type": "markdown",
   "metadata": {},
   "source": [
    "<img src=\"https://imgur.com/Zxiy5Wt.png\">"
   ]
  }
 ],
 "metadata": {
  "kernelspec": {
   "display_name": "Python 3",
   "language": "python",
   "name": "python3"
  },
  "language_info": {
   "codemirror_mode": {
    "name": "ipython",
    "version": 3
   },
   "file_extension": ".py",
   "mimetype": "text/x-python",
   "name": "python",
   "nbconvert_exporter": "python",
   "pygments_lexer": "ipython3",
   "version": "3.7.4"
  }
 },
 "nbformat": 4,
 "nbformat_minor": 2
}